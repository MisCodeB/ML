{
 "cells": [
  {
   "cell_type": "markdown",
   "id": "f48a330e",
   "metadata": {
    "papermill": {
     "duration": 0.011577,
     "end_time": "2023-10-16T18:10:29.502122",
     "exception": false,
     "start_time": "2023-10-16T18:10:29.490545",
     "status": "completed"
    },
    "tags": []
   },
   "source": []
  },
  {
   "cell_type": "markdown",
   "id": "6e376208",
   "metadata": {
    "papermill": {
     "duration": 0.010782,
     "end_time": "2023-10-16T18:10:29.524157",
     "exception": false,
     "start_time": "2023-10-16T18:10:29.513375",
     "status": "completed"
    },
    "tags": []
   },
   "source": [
    "#  Python for Data Science\n"
   ]
  },
  {
   "cell_type": "markdown",
   "id": "072a270c",
   "metadata": {
    "papermill": {
     "duration": 0.010914,
     "end_time": "2023-10-16T18:10:29.546146",
     "exception": false,
     "start_time": "2023-10-16T18:10:29.535232",
     "status": "completed"
    },
    "tags": []
   },
   "source": []
  },
  {
   "cell_type": "markdown",
   "id": "e0153676",
   "metadata": {
    "papermill": {
     "duration": 0.010763,
     "end_time": "2023-10-16T18:10:29.568029",
     "exception": false,
     "start_time": "2023-10-16T18:10:29.557266",
     "status": "completed"
    },
    "tags": []
   },
   "source": [
    "##  Table of Contents \n",
    "\n",
    "* [Machine Learning](#machine_learning)\n",
    "* [Scientific Computing](#scientific_computing)\n",
    "* [Data Analysis and Visualization](#data_analysis_and_visualization)\n",
    "* [Web Scraping](#web_scraping)\n",
    "* [Speed Up and Automate Your Workflow](#speed_up_and_automate_your_workflow)\n",
    "    * [DevOps](#devops)\n",
    "    * [Development Environment](#development_environment)\n",
    "    * [Software Packaging and Deployment](#software_packaging_and_deployment)\n",
    "    * [Database Systems](#database_systems)\n",
    "    * [Software Testing](#software_testing)\n",
    "* [What You Probably Shouldn’t Do With Python](#what_you_probably_shouldn’t_do_with_python)\n",
    "* [Conclusion](#conclusion)\n",
    "* [Next Steps](#next_steps)\n",
    "\n",
    "---"
   ]
  },
  {
   "cell_type": "markdown",
   "id": "3f8429d0",
   "metadata": {
    "papermill": {
     "duration": 0.010971,
     "end_time": "2023-10-16T18:10:29.590108",
     "exception": false,
     "start_time": "2023-10-16T18:10:29.579137",
     "status": "completed"
    },
    "tags": []
   },
   "source": [
    "[Data science](https://en.wikipedia.org/wiki/Data_science) is a field that involves cleaning, preparing, and analyzing data to extract knowledge from it. Data science combines [statistics](https://en.wikipedia.org/wiki/Statistic), [mathematics](https://en.wikipedia.org/wiki/Mathematics), [programming](https://en.wikipedia.org/wiki/Computer_programming), and problem-solving skills to extract useful information from data."
   ]
  },
  {
   "cell_type": "markdown",
   "id": "1cfe9de7",
   "metadata": {
    "papermill": {
     "duration": 0.010941,
     "end_time": "2023-10-16T18:10:29.612034",
     "exception": false,
     "start_time": "2023-10-16T18:10:29.601093",
     "status": "completed"
    },
    "tags": []
   },
   "source": [
    "Python plays a fundamental role in the fields of [data science](https://realpython.com/tutorials/data-science/) and math. The language has become popular among scientists because of its readability, productivity, flexibility, and portability. The Python ecosystem around science has grown immensely. You’ll find mature Python solutions in almost every major field in math and science."
   ]
  },
  {
   "cell_type": "markdown",
   "id": "6c957321",
   "metadata": {
    "papermill": {
     "duration": 0.010811,
     "end_time": "2023-10-16T18:10:29.633849",
     "exception": false,
     "start_time": "2023-10-16T18:10:29.623038",
     "status": "completed"
    },
    "tags": []
   },
   "source": [
    "Python includes tools for [machine learning (ML)](https://en.wikipedia.org/wiki/Machine_learning), [artificial intelligence (AI)](https://en.wikipedia.org/wiki/Artificial_intelligence), [scientific computing](https://en.wikipedia.org/wiki/Computational_science), [data analysis](https://en.wikipedia.org/wiki/Data_analysis), and [data visualization](https://en.wikipedia.org/wiki/Data_visualization). The language also provides efficient tools for collecting, [mining](https://en.wikipedia.org/wiki/Data_mining), and manipulating data."
   ]
  },
  {
   "cell_type": "markdown",
   "id": "16fd207a",
   "metadata": {
    "papermill": {
     "duration": 0.010822,
     "end_time": "2023-10-16T18:10:29.655842",
     "exception": false,
     "start_time": "2023-10-16T18:10:29.645020",
     "status": "completed"
    },
    "tags": []
   },
   "source": [
    "<a class=\"anchor\" id=\"machine_learning\"></a>\n",
    "\n",
    "## Machine Learning"
   ]
  },
  {
   "cell_type": "markdown",
   "id": "0ed53d54",
   "metadata": {
    "papermill": {
     "duration": 0.01079,
     "end_time": "2023-10-16T18:10:29.677805",
     "exception": false,
     "start_time": "2023-10-16T18:10:29.667015",
     "status": "completed"
    },
    "tags": []
   },
   "source": [
    "Machine learning can be the first step for someone interested in artificial intelligence. Machine learning studies algorithms that learn through experience. These algorithms build models based on samples of [training data](https://en.wikipedia.org/wiki/Training_data) to make predictions and decisions."
   ]
  },
  {
   "cell_type": "markdown",
   "id": "f92562a7",
   "metadata": {
    "papermill": {
     "duration": 0.010581,
     "end_time": "2023-10-16T18:10:29.699375",
     "exception": false,
     "start_time": "2023-10-16T18:10:29.688794",
     "status": "completed"
    },
    "tags": []
   },
   "source": [
    "Machine learning can be an intimidating field to get started with because the space is fast and ever-changing. Here’s a summary of some of the most popular tools for doing machine learning with Python:"
   ]
  },
  {
   "cell_type": "markdown",
   "id": "1b81bb74",
   "metadata": {
    "papermill": {
     "duration": 0.010721,
     "end_time": "2023-10-16T18:10:29.722224",
     "exception": false,
     "start_time": "2023-10-16T18:10:29.711503",
     "status": "completed"
    },
    "tags": []
   },
   "source": [
    "|Library|Description|\n",
    "|:--|:--|\n",
    "|[Keras](https://keras.io/)|Keras is an industrial-strength deep learning framework with an API designed for human beings. It allows you to run new experiments and try more ideas quickly. It follows best practices for reducing cognitive load.|\n",
    "|[NLTK](https://www.nltk.org/)|NLTK is a platform for building Python programs to [work with human language data](https://realpython.com/nltk-nlp-python/). It provides libraries for classification, tokenization, stemming, tagging, parsing, and semantic reasoning.|\n",
    "|[PyTorch](https://pytorch.org/)|PyTorch is an open source machine learning framework that accelerates the path from research prototyping to production deployment.|\n",
    "|[scikit-learn](http://scikit-learn.org/)|scikit-learn is an open source machine learning library that supports [supervised](https://en.wikipedia.org/wiki/Supervised_learning) and [unsupervised learning](https://en.wikipedia.org/wiki/Unsupervised_learning). It’s an efficient tool for predictive data analysis that’s accessible to everybody and reusable in various contexts.|\n",
    "|[TensorFlow](https://www.tensorflow.org/)|TensorFlow is an end-to-end open source platform for machine learning. It has a comprehensive, flexible ecosystem of tools, libraries, and community resources that will help you build and deploy ML-powered applications.|\n"
   ]
  },
  {
   "cell_type": "markdown",
   "id": "49b8fe1d",
   "metadata": {
    "papermill": {
     "duration": 0.01103,
     "end_time": "2023-10-16T18:10:29.799808",
     "exception": false,
     "start_time": "2023-10-16T18:10:29.788778",
     "status": "completed"
    },
    "tags": []
   },
   "source": [
    "To get started with machine learning, check out:"
   ]
  },
  {
   "cell_type": "markdown",
   "id": "e5b12f7d",
   "metadata": {
    "papermill": {
     "duration": 0.010894,
     "end_time": "2023-10-16T18:10:29.821905",
     "exception": false,
     "start_time": "2023-10-16T18:10:29.811011",
     "status": "completed"
    },
    "tags": []
   },
   "source": [
    "- [Python Machine Learning Tutorials](https://realpython.com/tutorials/machine-learning/)\n",
    "- [Machine Learning With Python Learning Path](https://realpython.com/learning-paths/machine-learning-python/)\n"
   ]
  },
  {
   "cell_type": "markdown",
   "id": "3a1aa364",
   "metadata": {
    "papermill": {
     "duration": 0.0108,
     "end_time": "2023-10-16T18:10:29.843781",
     "exception": false,
     "start_time": "2023-10-16T18:10:29.832981",
     "status": "completed"
    },
    "tags": []
   },
   "source": [
    "<a class=\"anchor\" id=\"scientific_computing\"></a>\n",
    "\n",
    "## Scientific Computing"
   ]
  },
  {
   "cell_type": "markdown",
   "id": "f1c27659",
   "metadata": {
    "papermill": {
     "duration": 0.010879,
     "end_time": "2023-10-16T18:10:29.865853",
     "exception": false,
     "start_time": "2023-10-16T18:10:29.854974",
     "status": "completed"
    },
    "tags": []
   },
   "source": [
    "Another field in which Python plays a significant role is scientific computing. Scientists use advanced [computing](https://en.wikipedia.org/wiki/Computing) capabilities available through [supercomputers](https://en.wikipedia.org/wiki/Supercomputer), [clusters of computers](https://en.wikipedia.org/wiki/Computer_cluster), and even desktop and laptop computers to understand and solve complex problems."
   ]
  },
  {
   "cell_type": "markdown",
   "id": "44f9cd6f",
   "metadata": {
    "papermill": {
     "duration": 0.012535,
     "end_time": "2023-10-16T18:10:29.889492",
     "exception": false,
     "start_time": "2023-10-16T18:10:29.876957",
     "status": "completed"
    },
    "tags": []
   },
   "source": [
    "Here are some of the libraries and tools you can use for scientific computing in Python these days:"
   ]
  },
  {
   "cell_type": "markdown",
   "id": "8f0b80da",
   "metadata": {
    "papermill": {
     "duration": 0.011053,
     "end_time": "2023-10-16T18:10:29.912099",
     "exception": false,
     "start_time": "2023-10-16T18:10:29.901046",
     "status": "completed"
    },
    "tags": []
   },
   "source": [
    "|Library|Description|\n",
    "|:--|:--|\n",
    "|[NumPy](https://numpy.org/)|NumPy is a fundamental package for scientific computing with Python. It offers comprehensive mathematical functions, random number generators, linear algebra routines, Fourier transforms, and more. It provides a high-level syntax that makes it accessible and productive.|\n",
    "|[SciPy](https://www.scipy.org/)|SciPy is a Python-based collection of open source software for mathematics, science, and engineering.|\n",
    "|[SimPy](https://simpy.readthedocs.io/en/latest/)|SimPy is a process-based discrete-event simulation framework based on Python. It can help you simulate real-world systems, such as airports, customer services, highways, and more.|\n"
   ]
  },
  {
   "cell_type": "markdown",
   "id": "499d476b",
   "metadata": {
    "papermill": {
     "duration": 0.010823,
     "end_time": "2023-10-16T18:10:29.934091",
     "exception": false,
     "start_time": "2023-10-16T18:10:29.923268",
     "status": "completed"
    },
    "tags": []
   },
   "source": [
    "To get started with scientific computing, check out:"
   ]
  },
  {
   "cell_type": "markdown",
   "id": "2f4a4c94",
   "metadata": {
    "papermill": {
     "duration": 0.010825,
     "end_time": "2023-10-16T18:10:29.956011",
     "exception": false,
     "start_time": "2023-10-16T18:10:29.945186",
     "status": "completed"
    },
    "tags": []
   },
   "source": [
    "- [Math for Data Science Learning Path](https://realpython.com/learning-paths/math-data-science/)\n",
    "- [NumPy, SciPy, and Pandas: Correlation With Python](https://realpython.com/numpy-scipy-pandas-correlation-python/)\n",
    "- [SimPy: Simulating Real-World Processes With Python](https://realpython.com/simpy-simulating-with-python/)\n"
   ]
  },
  {
   "cell_type": "markdown",
   "id": "f503e008",
   "metadata": {
    "papermill": {
     "duration": 0.010821,
     "end_time": "2023-10-16T18:10:29.977858",
     "exception": false,
     "start_time": "2023-10-16T18:10:29.967037",
     "status": "completed"
    },
    "tags": []
   },
   "source": [
    "The libraries and tools in this section are fundamental pieces in the data science space in Python. Some of them are core components of higher-level libraries for machine learning, data analysis, and more."
   ]
  },
  {
   "cell_type": "markdown",
   "id": "9d65ab9c",
   "metadata": {
    "papermill": {
     "duration": 0.010781,
     "end_time": "2023-10-16T18:10:29.999605",
     "exception": false,
     "start_time": "2023-10-16T18:10:29.988824",
     "status": "completed"
    },
    "tags": []
   },
   "source": [
    "<a class=\"anchor\" id=\"data_analysis_and_visualization\"></a>\n",
    "\n",
    "## Data Analysis and Visualization"
   ]
  },
  {
   "cell_type": "markdown",
   "id": "d08e3cff",
   "metadata": {
    "papermill": {
     "duration": 0.010813,
     "end_time": "2023-10-16T18:10:30.021490",
     "exception": false,
     "start_time": "2023-10-16T18:10:30.010677",
     "status": "completed"
    },
    "tags": []
   },
   "source": [
    "[Data analysis](https://en.wikipedia.org/wiki/Data_analysis) is a process of collecting, inspecting, [cleansing](https://en.wikipedia.org/wiki/Data_cleansing), [transforming](https://en.wikipedia.org/wiki/Data_transformation), and [modeling](https://en.wikipedia.org/wiki/Data_modeling) data to discover useful information, make predictions, arrive at conclusions, support decision-making processes, and more. Data analysis is closely related to [data visualization](https://en.wikipedia.org/wiki/Data_visualization), which deals with the graphical representation of data."
   ]
  },
  {
   "cell_type": "markdown",
   "id": "853d7340",
   "metadata": {
    "papermill": {
     "duration": 0.010956,
     "end_time": "2023-10-16T18:10:30.044018",
     "exception": false,
     "start_time": "2023-10-16T18:10:30.033062",
     "status": "completed"
    },
    "tags": []
   },
   "source": [
    "In Python, you’ll also find mature and well-established libraries for data analysis and data visualization. Here are some of them:"
   ]
  },
  {
   "cell_type": "markdown",
   "id": "3111d7ea",
   "metadata": {
    "papermill": {
     "duration": 0.011627,
     "end_time": "2023-10-16T18:10:30.067319",
     "exception": false,
     "start_time": "2023-10-16T18:10:30.055692",
     "status": "completed"
    },
    "tags": []
   },
   "source": [
    "|Library|Description|\n",
    "|:--|:--|\n",
    "|[Bokeh](https://bokeh.org/)|Bokeh is an interactive data visualization library for web browsers. It provides tools for constructing elegant and versatile graphics. It can help you quickly make interactive plots, dashboards, and data applications.|\n",
    "|[Dash](https://plotly.com/dash/)|Dash is a Python framework for building web analytic applications quickly. It’s ideal for building data visualization applications with custom user interfaces that render in the browser.|\n",
    "|[Matplotlib](https://matplotlib.org/)|Matplotlib is a library for creating static, animated, and interactive data visualizations in Python.|\n",
    "|[pandas](https://pandas.pydata.org/)|pandas is a powerful and flexible open source tool for analyzing and manipulating data. It provides fast, flexible, and expressive data structures to work with relational or labeled data.|\n",
    "|[Seaborn](https://seaborn.pydata.org/)|Seaborn is a Python data visualization library based on Matplotlib. It provides a high-level interface for drawing attractive and informative statistical graphics that allow you to explore and understand your data. It integrates closely with pandas data structures.|\n"
   ]
  },
  {
   "cell_type": "markdown",
   "id": "2ca67e6d",
   "metadata": {
    "papermill": {
     "duration": 0.010882,
     "end_time": "2023-10-16T18:10:30.089523",
     "exception": false,
     "start_time": "2023-10-16T18:10:30.078641",
     "status": "completed"
    },
    "tags": []
   },
   "source": [
    "To get started with data analysis and visualization, check out:"
   ]
  },
  {
   "cell_type": "markdown",
   "id": "3d36e6dd",
   "metadata": {
    "papermill": {
     "duration": 0.010943,
     "end_time": "2023-10-16T18:10:30.112097",
     "exception": false,
     "start_time": "2023-10-16T18:10:30.101154",
     "status": "completed"
    },
    "tags": []
   },
   "source": [
    "- [Data Collection & Storage Learning Path](https://realpython.com/learning-paths/data-collection-storage/)\n",
    "- [Data Visualization With Python Learning Path](https://realpython.com/learning-paths/data-visualization-python/)\n",
    "- [Data Science With Python Core Skills Learning Path](https://realpython.com/learning-paths/data-science-python-core-skills/)\n",
    "- [Pandas for Data Science Learning Path Learning Path](https://realpython.com/learning-paths/pandas-data-science/)\n",
    "- [Develop Data Visualization Interfaces in Python With Dash](https://realpython.com/python-dash/)\n"
   ]
  },
  {
   "cell_type": "markdown",
   "id": "5d3a6f7c",
   "metadata": {
    "papermill": {
     "duration": 0.011006,
     "end_time": "2023-10-16T18:10:30.134293",
     "exception": false,
     "start_time": "2023-10-16T18:10:30.123287",
     "status": "completed"
    },
    "tags": []
   },
   "source": [
    "If you want to level up your data analysis skills by building a practical project, then you can [create a gradebook with Python and pandas](https://realpython.com/pandas-project-gradebook/). This step-by-step project guides you through the process of creating a Python script that loads the grade data and calculates letter grades for a group of students. The project involves loading the data from a [comma-separated values (CSV) file](https://realpython.com/python-csv/), exploring the data, and calculating and plotting the grades using pandas."
   ]
  },
  {
   "cell_type": "markdown",
   "id": "fad32c44",
   "metadata": {
    "papermill": {
     "duration": 0.011111,
     "end_time": "2023-10-16T18:10:30.156560",
     "exception": false,
     "start_time": "2023-10-16T18:10:30.145449",
     "status": "completed"
    },
    "tags": []
   },
   "source": [
    "<a class=\"anchor\" id=\"web_scraping\"></a>\n",
    "\n",
    "## Web Scraping"
   ]
  },
  {
   "cell_type": "markdown",
   "id": "60e1e1cc",
   "metadata": {
    "papermill": {
     "duration": 0.011004,
     "end_time": "2023-10-16T18:10:30.178774",
     "exception": false,
     "start_time": "2023-10-16T18:10:30.167770",
     "status": "completed"
    },
    "tags": []
   },
   "source": [
    "One of the most significant sources of information for doing data science is the [Web](https://en.wikipedia.org/wiki/World_Wide_Web). The process of collecting and parsing raw data from the Web with an automated tool ([crawler](https://en.wikipedia.org/wiki/Web_crawler)) is known as [web scraping](https://en.wikipedia.org/wiki/Web_scraping)."
   ]
  },
  {
   "cell_type": "markdown",
   "id": "97606443",
   "metadata": {
    "papermill": {
     "duration": 0.011089,
     "end_time": "2023-10-16T18:10:30.202191",
     "exception": false,
     "start_time": "2023-10-16T18:10:30.191102",
     "status": "completed"
    },
    "tags": []
   },
   "source": [
    "Python has a great set of tools and libraries for scraping data from the Web. Here are some of them:"
   ]
  },
  {
   "cell_type": "markdown",
   "id": "bd2c74e1",
   "metadata": {
    "papermill": {
     "duration": 0.011473,
     "end_time": "2023-10-16T18:10:30.224704",
     "exception": false,
     "start_time": "2023-10-16T18:10:30.213231",
     "status": "completed"
    },
    "tags": []
   },
   "source": [
    "|Library|Description|\n",
    "|:--|:--|\n",
    "|[Beautiful Soup](https://www.crummy.com/software/BeautifulSoup/bs4/doc/)|Beautiful Soup is a Python library for pulling data out of HTML and XML files into parse trees. The library provides methods and Pythonic idioms to navigate, search, modify, and extract information from parse trees.|\n",
    "|[`requests`](https://docs.python-requests.org/en/master/)|`requests` is an elegant and powerful [HTTP](https://en.wikipedia.org/wiki/Hypertext_Transfer_Protocol) library for Python. It provides an intuitive and concise API designed for human beings.|\n",
    "|[Scrapy](https://docs.scrapy.org/en/latest/)|Scrapy is a fast, high-level web crawling and web scraping framework. It allows you to crawl websites and extract structured data from their pages.|\n",
    "|[`urllib.request`](https://realpython.com/urllib-request/)|`urllib.request` is a standard library module that defines functions and classes to help you open URLs. It also allows you to work with basic and [digest authentication](https://en.wikipedia.org/wiki/Digest_access_authentication), redirections, cookies, and more.|\n"
   ]
  },
  {
   "cell_type": "markdown",
   "id": "911cdb4f",
   "metadata": {
    "papermill": {
     "duration": 0.011086,
     "end_time": "2023-10-16T18:10:30.247158",
     "exception": false,
     "start_time": "2023-10-16T18:10:30.236072",
     "status": "completed"
    },
    "tags": []
   },
   "source": [
    "To scrape data from the web, check out:"
   ]
  },
  {
   "cell_type": "markdown",
   "id": "73dfd1be",
   "metadata": {
    "papermill": {
     "duration": 0.011085,
     "end_time": "2023-10-16T18:10:30.269527",
     "exception": false,
     "start_time": "2023-10-16T18:10:30.258442",
     "status": "completed"
    },
    "tags": []
   },
   "source": [
    "- [Python Web Scraping Tutorials](https://realpython.com/tutorials/web-scraping/)\n",
    "- [Python Web Scraping Learning Path](https://realpython.com/learning-paths/python-web-scraping/)\n"
   ]
  },
  {
   "cell_type": "markdown",
   "id": "452f9eed",
   "metadata": {
    "papermill": {
     "duration": 0.010986,
     "end_time": "2023-10-16T18:10:30.291905",
     "exception": false,
     "start_time": "2023-10-16T18:10:30.280919",
     "status": "completed"
    },
    "tags": []
   },
   "source": [
    "Once you know the basics of web scraping, you can dive into a practical project and build your own [web scraper with Python and Beautiful Soup](https://realpython.com/beautiful-soup-web-scraper-python/). After finishing this practical project, you’ll be able to apply the same process and tools to any other static websites out there. These skills allow you to extract relevant information and use it in your applications. Go ahead and give it a try!"
   ]
  },
  {
   "cell_type": "markdown",
   "id": "0e273719",
   "metadata": {
    "papermill": {
     "duration": 0.011063,
     "end_time": "2023-10-16T18:10:30.314153",
     "exception": false,
     "start_time": "2023-10-16T18:10:30.303090",
     "status": "completed"
    },
    "tags": []
   },
   "source": [
    "A second project you can build right away is a [Bitcoin price notification service](https://realpython.com/python-bitcoin-ifttt/). Since topping out at a price of just over $40,000 in January 2021, the cryptocurrency has been on the minds of millions. Its price continues to fluctuate, but many people out there would consider it a worthwhile investment."
   ]
  },
  {
   "cell_type": "markdown",
   "id": "99a42ccb",
   "metadata": {
    "papermill": {
     "duration": 0.011082,
     "end_time": "2023-10-16T18:10:30.336529",
     "exception": false,
     "start_time": "2023-10-16T18:10:30.325447",
     "status": "completed"
    },
    "tags": []
   },
   "source": [
    "If you’re looking to cash in on the virtual gold rush and just need to know when to make your move, then you’ll need to stay on top of Bitcoin’s prices. The foundation of this project is the creation of [IFTTT](https://ifttt.com/) (If This Then That) applets. You’ll learn how to use [`requests`](https://realpython.com/python-requests/) to send HTTP requests and how to use a [webhook](https://en.wikipedia.org/wiki/Webhook) to connect your application to external services."
   ]
  },
  {
   "cell_type": "markdown",
   "id": "95a12f85",
   "metadata": {
    "papermill": {
     "duration": 0.011598,
     "end_time": "2023-10-16T18:10:30.360229",
     "exception": false,
     "start_time": "2023-10-16T18:10:30.348631",
     "status": "completed"
    },
    "tags": []
   },
   "source": [
    "This Bitcoin price notification service is the perfect starter project for a [beginner](https://realpython.com/python-beginner-tips/) Pythonista with interest in crypto. Then you can extend the service you’ll build in this tutorial to monitor other currencies as well."
   ]
  },
  {
   "cell_type": "markdown",
   "id": "d5b94a68",
   "metadata": {
    "papermill": {
     "duration": 0.011011,
     "end_time": "2023-10-16T18:10:30.382626",
     "exception": false,
     "start_time": "2023-10-16T18:10:30.371615",
     "status": "completed"
    },
    "tags": []
   },
   "source": [
    "Thanks to the Internet—and, increasingly, the Internet of Things—you now have access to hordes of data that weren’t available years ago."
   ]
  },
  {
   "cell_type": "markdown",
   "id": "a45248d6",
   "metadata": {
    "papermill": {
     "duration": 0.010967,
     "end_time": "2023-10-16T18:10:30.404888",
     "exception": false,
     "start_time": "2023-10-16T18:10:30.393921",
     "status": "completed"
    },
    "tags": []
   },
   "source": [
    "Analytics is a huge part of any field that works with data. What are people talking about? What patterns can you see in their behavior? Twitter is a great place to get answers to some of these questions. If you’re interested in data analysis, then a [Twitter sentiment analysis project](https://realpython.com/twitter-sentiment-python-docker-elasticsearch-kibana/) is a great way to use your Python skills to answer questions about the world around you."
   ]
  },
  {
   "cell_type": "markdown",
   "id": "03a3c3b2",
   "metadata": {
    "papermill": {
     "duration": 0.010917,
     "end_time": "2023-10-16T18:10:30.427266",
     "exception": false,
     "start_time": "2023-10-16T18:10:30.416349",
     "status": "completed"
    },
    "tags": []
   },
   "source": [
    "In this project, you’ll learn how to mine Twitter data and analyze user sentiment with a [Docker](https://realpython.com/python-versions-docker/) environment. You’ll learn how to register an application with Twitter, which you’ll need to do in order to access their streaming API. You’ll see how to use [Tweepy](http://www.tweepy.org/) to filter which tweets you want to pull, [TextBlob](http://textblob.readthedocs.io/en/dev/) to calculate the sentiment of those tweets, [Elasticsearch](http://www.elasticsearch.org/) to analyze their content, and [Kibana](http://www.elasticsearch.org/overview/kibana/) to visualize the results."
   ]
  },
  {
   "cell_type": "markdown",
   "id": "d72b734f",
   "metadata": {
    "papermill": {
     "duration": 0.011014,
     "end_time": "2023-10-16T18:10:30.449624",
     "exception": false,
     "start_time": "2023-10-16T18:10:30.438610",
     "status": "completed"
    },
    "tags": []
   },
   "source": [
    "<a class=\"anchor\" id=\"speed_up_and_automate_your_workflow\"></a>\n",
    "\n",
    "## Speed Up and Automate Your Workflow"
   ]
  },
  {
   "cell_type": "markdown",
   "id": "f1e4dd2d",
   "metadata": {
    "papermill": {
     "duration": 0.011037,
     "end_time": "2023-10-16T18:10:30.472052",
     "exception": false,
     "start_time": "2023-10-16T18:10:30.461015",
     "status": "completed"
    },
    "tags": []
   },
   "source": [
    "Computers are extremely good at performing repetitive and boring tasks. They can be doing the same thing for a long time without making mistakes. This is a valuable feature that can help you make your day-to-day work more pleasant and productive."
   ]
  },
  {
   "cell_type": "markdown",
   "id": "64195f3d",
   "metadata": {
    "papermill": {
     "duration": 0.011027,
     "end_time": "2023-10-16T18:10:30.494620",
     "exception": false,
     "start_time": "2023-10-16T18:10:30.483593",
     "status": "completed"
    },
    "tags": []
   },
   "source": [
    "With Python, you can automate a lot of tasks in your workflow. You can automate and manage your [DevOps](https://en.wikipedia.org/wiki/DevOps) operations, build an effective [Python development environment](https://realpython.com/effective-python-environment/), handle the packaging and [deployment](https://en.wikipedia.org/wiki/Software_deployment) process in your development cycle, test your software, manage your database systems, and more."
   ]
  },
  {
   "cell_type": "markdown",
   "id": "ea57b0ec",
   "metadata": {
    "papermill": {
     "duration": 0.010941,
     "end_time": "2023-10-16T18:10:30.516763",
     "exception": false,
     "start_time": "2023-10-16T18:10:30.505822",
     "status": "completed"
    },
    "tags": []
   },
   "source": [
    "<a class=\"anchor\" id=\"devops\"></a>\n",
    "\n",
    "### DevOps"
   ]
  },
  {
   "cell_type": "markdown",
   "id": "413809f5",
   "metadata": {
    "papermill": {
     "duration": 0.010949,
     "end_time": "2023-10-16T18:10:30.538936",
     "exception": false,
     "start_time": "2023-10-16T18:10:30.527987",
     "status": "completed"
    },
    "tags": []
   },
   "source": [
    "DevOps comprises software development and general [IT operations](https://en.wikipedia.org/wiki/IT_operations). DevOps allows you to handle the entire life cycle of your applications and software products. It includes development, testing, packaging and deployment, and other related operations."
   ]
  },
  {
   "cell_type": "markdown",
   "id": "ddab538a",
   "metadata": {
    "papermill": {
     "duration": 0.01093,
     "end_time": "2023-10-16T18:10:30.561339",
     "exception": false,
     "start_time": "2023-10-16T18:10:30.550409",
     "status": "completed"
    },
    "tags": []
   },
   "source": [
    "Python is one of the primary technologies people use for DevOps. Its flexibility and accessibility make Python an excellent fit for this job, enabling development teams to improve their workflow and to be more efficient and productive."
   ]
  },
  {
   "cell_type": "markdown",
   "id": "a968b975",
   "metadata": {
    "papermill": {
     "duration": 0.011052,
     "end_time": "2023-10-16T18:10:30.583898",
     "exception": false,
     "start_time": "2023-10-16T18:10:30.572846",
     "status": "completed"
    },
    "tags": []
   },
   "source": [
    "In the Python ecosystem, you’ll find that some popular DevOps tools are written in Python. You’ll also find that you can use Python to control most of those tools. Here are a few of them:"
   ]
  },
  {
   "cell_type": "markdown",
   "id": "d0545a7d",
   "metadata": {
    "papermill": {
     "duration": 0.011014,
     "end_time": "2023-10-16T18:10:30.606148",
     "exception": false,
     "start_time": "2023-10-16T18:10:30.595134",
     "status": "completed"
    },
    "tags": []
   },
   "source": [
    "|Library|Description|\n",
    "|:--|:--|\n",
    "|[Ansible](https://www.ansible.com/)|Ansible is a tool for software [provisioning](https://en.wikipedia.org/wiki/Provisioning), configuration management, and [application deployment](https://en.wikipedia.org/wiki/Application_deployment). It enables [infrastructure as code](https://en.wikipedia.org/wiki/Infrastructure_as_code).|\n",
    "|[Docker Compose](https://docs.docker.com/compose/)|Docker Compose is a tool for defining and running multicontainer [Docker](https://docs.docker.com/) applications. You can configure your application’s services with a [YAML](https://yaml.org/) file. Then, with a single command, you can create and start all the services from your configuration file. It works on production, staging, development, testing, and more.|\n"
   ]
  },
  {
   "cell_type": "markdown",
   "id": "86333eac",
   "metadata": {
    "papermill": {
     "duration": 0.01138,
     "end_time": "2023-10-16T18:10:30.628815",
     "exception": false,
     "start_time": "2023-10-16T18:10:30.617435",
     "status": "completed"
    },
    "tags": []
   },
   "source": [
    "To get started with DevOps, check out:"
   ]
  },
  {
   "cell_type": "markdown",
   "id": "5efa5cf7",
   "metadata": {
    "papermill": {
     "duration": 0.01171,
     "end_time": "2023-10-16T18:10:30.651848",
     "exception": false,
     "start_time": "2023-10-16T18:10:30.640138",
     "status": "completed"
    },
    "tags": []
   },
   "source": [
    "- [Python DevOps Tutorials](https://realpython.com/tutorials/devops/)\n",
    "- [DevOps With Python Learning Path](https://realpython.com/learning-paths/python-devops/)\n"
   ]
  },
  {
   "cell_type": "markdown",
   "id": "19d8d606",
   "metadata": {
    "papermill": {
     "duration": 0.011238,
     "end_time": "2023-10-16T18:10:30.674281",
     "exception": false,
     "start_time": "2023-10-16T18:10:30.663043",
     "status": "completed"
    },
    "tags": []
   },
   "source": [
    "With these resources, you’ll build various skills and learn to use tools and technologies that any DevOps engineer working with Python should know."
   ]
  },
  {
   "cell_type": "markdown",
   "id": "734fc51d",
   "metadata": {
    "papermill": {
     "duration": 0.011127,
     "end_time": "2023-10-16T18:10:30.696763",
     "exception": false,
     "start_time": "2023-10-16T18:10:30.685636",
     "status": "completed"
    },
    "tags": []
   },
   "source": [
    "<a class=\"anchor\" id=\"development_environment\"></a>\n",
    "\n",
    "### Development Environment"
   ]
  },
  {
   "cell_type": "markdown",
   "id": "5f37ca80",
   "metadata": {
    "papermill": {
     "duration": 0.011058,
     "end_time": "2023-10-16T18:10:30.718974",
     "exception": false,
     "start_time": "2023-10-16T18:10:30.707916",
     "status": "completed"
    },
    "tags": []
   },
   "source": [
    "Constructing a productive and effective environment for you and your teammates is a fundamental part of software development. To this end, Python has a great set of tools that allows you to isolate your packages, libraries, and Python version in per-project virtual environments."
   ]
  },
  {
   "cell_type": "markdown",
   "id": "a0eac73f",
   "metadata": {
    "papermill": {
     "duration": 0.010989,
     "end_time": "2023-10-16T18:10:30.741123",
     "exception": false,
     "start_time": "2023-10-16T18:10:30.730134",
     "status": "completed"
    },
    "tags": []
   },
   "source": [
    "Here are some of the most popular tools:"
   ]
  },
  {
   "cell_type": "markdown",
   "id": "ae702ad6",
   "metadata": {
    "papermill": {
     "duration": 0.010939,
     "end_time": "2023-10-16T18:10:30.763273",
     "exception": false,
     "start_time": "2023-10-16T18:10:30.752334",
     "status": "completed"
    },
    "tags": []
   },
   "source": [
    "|Tool|Description|\n",
    "|:--|:--|\n",
    "|[`conda`](https://docs.conda.io/en/latest/)|`conda` is an open source package and environment management system. It allows you to quickly install, run, and update packages and their dependencies. It helps you find and install packages.|\n",
    "|[`pip`](https://pip.pypa.io/en/stable/)|`pip` is a [package management tool for Python](https://packaging.python.org/guides/tool-recommendations/). It allows you to install packages from [PyPI](https://pypi.org/) and other indexes.|\n",
    "|[Pipenv](https://pipenv.pypa.io/en/latest/)|Pipenv is a tool that aims to bring the best of all packaging worlds to the Python world. It allows you to create and manage virtual environments for your projects. It provides a way to use `pip` and [`virtualenv`](https://virtualenv.pypa.io/en/latest/) together through a unified interface.|\n",
    "|[pipx](https://pipxproject.github.io/pipx/)|pipx is a tool that helps you install and run end-user applications written in Python in isolated environments. It creates an isolated environment for each application and its associated packages. It makes the applications available in your command line or shell.|\n",
    "|[pyenv](https://github.com/pyenv/pyenv)|pyenv is a tool for installing and managing multiple Python versions. It lets you switch between them quickly. It also allows you to define per-project Python versions.|\n"
   ]
  },
  {
   "cell_type": "markdown",
   "id": "e94f090b",
   "metadata": {
    "papermill": {
     "duration": 0.010886,
     "end_time": "2023-10-16T18:10:30.785356",
     "exception": false,
     "start_time": "2023-10-16T18:10:30.774470",
     "status": "completed"
    },
    "tags": []
   },
   "source": [
    "To build an effective development environment, check out:"
   ]
  },
  {
   "cell_type": "markdown",
   "id": "f8b7d3a6",
   "metadata": {
    "papermill": {
     "duration": 0.010921,
     "end_time": "2023-10-16T18:10:30.807352",
     "exception": false,
     "start_time": "2023-10-16T18:10:30.796431",
     "status": "completed"
    },
    "tags": []
   },
   "source": [
    "- [Python Development Tools Tutorials](https://realpython.com/tutorials/tools/)\n",
    "- [Perfect Your Python Development Setup Learning Path](https://realpython.com/learning-paths/perfect-your-python-development-setup/)\n",
    "- [An Effective Python Environment: Making Yourself at Home](https://realpython.com/effective-python-environment/)\n"
   ]
  },
  {
   "cell_type": "markdown",
   "id": "f5116c18",
   "metadata": {
    "papermill": {
     "duration": 0.01094,
     "end_time": "2023-10-16T18:10:30.829548",
     "exception": false,
     "start_time": "2023-10-16T18:10:30.818608",
     "status": "completed"
    },
    "tags": []
   },
   "source": [
    "Learning how to build an effective Python environment for your development adventure will push your productivity to the next level, so it’s important to take the time to polish this skill."
   ]
  },
  {
   "cell_type": "markdown",
   "id": "b7724f74",
   "metadata": {
    "papermill": {
     "duration": 0.010922,
     "end_time": "2023-10-16T18:10:30.851618",
     "exception": false,
     "start_time": "2023-10-16T18:10:30.840696",
     "status": "completed"
    },
    "tags": []
   },
   "source": [
    "<a class=\"anchor\" id=\"software_packaging_and_deployment\"></a>\n",
    "\n",
    "### Software Packaging and Deployment"
   ]
  },
  {
   "cell_type": "markdown",
   "id": "10b785ca",
   "metadata": {
    "papermill": {
     "duration": 0.010838,
     "end_time": "2023-10-16T18:10:30.873702",
     "exception": false,
     "start_time": "2023-10-16T18:10:30.862864",
     "status": "completed"
    },
    "tags": []
   },
   "source": [
    "Another critical part of your software development cycle is to [package](https://packaging.python.org/tutorials/packaging-projects/), distribute, and [deploy](https://en.wikipedia.org/wiki/Software_deployment) your products to your end users or clients. In Python, a quick and popular way to deploy applications and libraries is to publish them to PyPI."
   ]
  },
  {
   "cell_type": "markdown",
   "id": "6775cb76",
   "metadata": {
    "papermill": {
     "duration": 0.010853,
     "end_time": "2023-10-16T18:10:30.895667",
     "exception": false,
     "start_time": "2023-10-16T18:10:30.884814",
     "status": "completed"
    },
    "tags": []
   },
   "source": [
    "Here are some of the tools you can use for this purpose:"
   ]
  },
  {
   "cell_type": "markdown",
   "id": "ec2111ec",
   "metadata": {
    "papermill": {
     "duration": 0.010939,
     "end_time": "2023-10-16T18:10:30.917745",
     "exception": false,
     "start_time": "2023-10-16T18:10:30.906806",
     "status": "completed"
    },
    "tags": []
   },
   "source": [
    "|Tool|Description|\n",
    "|:--|:--|\n",
    "|[Flit](https://flit.readthedocs.io/en/latest/index.html)|Flit is a tool that provides a quick way to put your Python packages and modules on PyPI. It helps you set up the information about your package, so you can publish it to PyPI with minimal effort.|\n",
    "|[Poetry](https://python-poetry.org/)|Poetry is a tool for creating, building, installing, and packaging Python projects. It also allows you to publish your projects to PyPI. It tracks and resolves your project’s dependencies. It uses your current virtual environments or creates new ones to isolate your packages from your system-wide Python installation.|\n",
    "|[PyInstaller](https://www.pyinstaller.org/)|PyInstaller is a tool that freezes Python applications into stand-alone executables that work under Windows, GNU/Linux, macOS, and others.|\n",
    "|[setuptools](https://packaging.python.org/key_projects/#setuptools)|setuptools is a collection of enhancements to the Python [distutils](https://packaging.python.org/key_projects/#distutils) that allows you to build and distribute Python [distributions](https://packaging.python.org/glossary/#term-Distribution-Package), especially those that depend on other packages.|\n",
    "|[Twine](https://twine.readthedocs.io/en/latest/)|Twine is a utility for publishing Python packages on PyPI. It allows you to upload source and binary distributions of your projects.|\n"
   ]
  },
  {
   "cell_type": "markdown",
   "id": "fa051319",
   "metadata": {
    "papermill": {
     "duration": 0.011055,
     "end_time": "2023-10-16T18:10:30.940557",
     "exception": false,
     "start_time": "2023-10-16T18:10:30.929502",
     "status": "completed"
    },
    "tags": []
   },
   "source": [
    "To get started, check out:"
   ]
  },
  {
   "cell_type": "markdown",
   "id": "5509fd68",
   "metadata": {
    "papermill": {
     "duration": 0.010963,
     "end_time": "2023-10-16T18:10:30.963017",
     "exception": false,
     "start_time": "2023-10-16T18:10:30.952054",
     "status": "completed"
    },
    "tags": []
   },
   "source": [
    "- [How to Publish an Open Source Python Package to PyPI](https://realpython.com/pypi-publish-python-package/)\n",
    "- [Using PyInstaller to Easily Distribute Python Applications](https://realpython.com/pyinstaller-python/)\n"
   ]
  },
  {
   "cell_type": "markdown",
   "id": "6a4c3e95",
   "metadata": {
    "papermill": {
     "duration": 0.010911,
     "end_time": "2023-10-16T18:10:30.985063",
     "exception": false,
     "start_time": "2023-10-16T18:10:30.974152",
     "status": "completed"
    },
    "tags": []
   },
   "source": [
    "With these resources, you can get started with packaging and deploying your Python applications, libraries, and packages to your end users, clients, and colleges. Also, the [Python Packaging Authority](https://packaging.python.org/) provides a lot of useful information and tutorials to help you distribute Python packages with modern tools."
   ]
  },
  {
   "cell_type": "markdown",
   "id": "93801bf6",
   "metadata": {
    "papermill": {
     "duration": 0.011019,
     "end_time": "2023-10-16T18:10:31.007769",
     "exception": false,
     "start_time": "2023-10-16T18:10:30.996750",
     "status": "completed"
    },
    "tags": []
   },
   "source": [
    "<a class=\"anchor\" id=\"database_systems\"></a>\n",
    "\n",
    "### Database Systems"
   ]
  },
  {
   "cell_type": "markdown",
   "id": "551fccf3",
   "metadata": {
    "papermill": {
     "duration": 0.010985,
     "end_time": "2023-10-16T18:10:31.030048",
     "exception": false,
     "start_time": "2023-10-16T18:10:31.019063",
     "status": "completed"
    },
    "tags": []
   },
   "source": [
    "Most of the applications you’ll build in your career as a developer will interact with data in some way. This interaction commonly happens through a [database management system (DBMS)](https://en.wikipedia.org/wiki/Database#Database_management_system) that allows you to define, create, maintain, and control access to your database or databases."
   ]
  },
  {
   "cell_type": "markdown",
   "id": "db8d8692",
   "metadata": {
    "papermill": {
     "duration": 0.01151,
     "end_time": "2023-10-16T18:10:31.052903",
     "exception": false,
     "start_time": "2023-10-16T18:10:31.041393",
     "status": "completed"
    },
    "tags": []
   },
   "source": [
    "To connect and manipulate your databases with Python, you have several options that include both standard library packages and third-party packages and libraries. You also have options for [SQL](https://en.wikipedia.org/wiki/SQL) and [NoSQL](https://en.wikipedia.org/wiki/NoSQL) databases in Python."
   ]
  },
  {
   "cell_type": "markdown",
   "id": "266e461b",
   "metadata": {
    "papermill": {
     "duration": 0.010999,
     "end_time": "2023-10-16T18:10:31.075335",
     "exception": false,
     "start_time": "2023-10-16T18:10:31.064336",
     "status": "completed"
    },
    "tags": []
   },
   "source": [
    "[Object-relational mapping tools (ORMs)](https://en.wikipedia.org/wiki/Object%E2%80%93relational_mapping) are another important type of tool you’ll probably use to work with databases in Python. These tools allow you to use [object-oriented programming](https://realpython.com/python3-object-oriented-programming/) to create and manipulate your databases."
   ]
  },
  {
   "cell_type": "markdown",
   "id": "a63740c6",
   "metadata": {
    "papermill": {
     "duration": 0.010932,
     "end_time": "2023-10-16T18:10:31.097588",
     "exception": false,
     "start_time": "2023-10-16T18:10:31.086656",
     "status": "completed"
    },
    "tags": []
   },
   "source": [
    "Here are some Python libraries you can use for connecting and operating databases:"
   ]
  },
  {
   "cell_type": "markdown",
   "id": "4e7077f7",
   "metadata": {
    "papermill": {
     "duration": 0.011499,
     "end_time": "2023-10-16T18:10:31.120302",
     "exception": false,
     "start_time": "2023-10-16T18:10:31.108803",
     "status": "completed"
    },
    "tags": []
   },
   "source": [
    "|Library|Database|Description|\n",
    "|:--|:--|:--|\n",
    "|[MongoEngine](http://docs.mongoengine.org/)|[MongoDB](https://realpython.com/introduction-to-mongodb-and-python/)|MongoEngine is a document-object mapper for working with MongoDB using object-oriented programming in Python.|\n",
    "|[MySQL Connector/Python](https://dev.mysql.com/doc/connector-python/en/)|[MySQL](https://dev.mysql.com/)|MySQL Connector is a self-contained Python driver for communicating with MySQL servers.|\n",
    "|[Psycopg](https://www.psycopg.org/)|[PostgreSQL](https://www.postgresql.org/about/)|Psycopg is a PostgreSQL database adapter for the Python programming language.|\n",
    "|[PyMongo](https://pymongo.readthedocs.io/en/stable/index.html)|[MongoDB](https://docs.mongodb.com/)|PyMongo is a Python distribution containing tools for working with MongoDB databases. It provides a native Python driver for this type of database system.|\n",
    "|[SQLAlchemy](https://www.sqlalchemy.org/)|[SQL](https://realpython.com/python-sql-libraries/)|SQLAlchemy is a Python SQL toolkit and object-relational mapper for SQL databases.|\n",
    "|[`sqlite3`](https://docs.python.org/3/library/sqlite3.html#module-sqlite3)|[SQLite](https://www.sqlite.org/about.html)|`sqlite3` is a lightweight disk-based database that doesn’t require a separate server process. It allows you to access databases using a nonstandard variant of SQL. It’s freely available and comes in the Python standard library.|\n"
   ]
  },
  {
   "cell_type": "markdown",
   "id": "54b813dc",
   "metadata": {
    "papermill": {
     "duration": 0.011005,
     "end_time": "2023-10-16T18:10:31.142598",
     "exception": false,
     "start_time": "2023-10-16T18:10:31.131593",
     "status": "completed"
    },
    "tags": []
   },
   "source": [
    "To get started with databases, check out:"
   ]
  },
  {
   "cell_type": "markdown",
   "id": "251645b9",
   "metadata": {
    "papermill": {
     "duration": 0.010972,
     "end_time": "2023-10-16T18:10:31.164819",
     "exception": false,
     "start_time": "2023-10-16T18:10:31.153847",
     "status": "completed"
    },
    "tags": []
   },
   "source": [
    "- [Python Database Tutorials](https://realpython.com/tutorials/databases/)\n",
    "- [Data Collection & Storage Learning Path](https://realpython.com/learning-paths/data-collection-storage/)\n"
   ]
  },
  {
   "cell_type": "markdown",
   "id": "bb7c7141",
   "metadata": {
    "papermill": {
     "duration": 0.010979,
     "end_time": "2023-10-16T18:10:31.187115",
     "exception": false,
     "start_time": "2023-10-16T18:10:31.176136",
     "status": "completed"
    },
    "tags": []
   },
   "source": [
    "Creating and working with databases is a powerful way to manage data in your Python applications. Databases add significant functionality and versatility to your programs and allow you to provide exciting features to your users and client. Managing databases is a fundamental skill in your developer education."
   ]
  },
  {
   "cell_type": "markdown",
   "id": "54480766",
   "metadata": {
    "papermill": {
     "duration": 0.011306,
     "end_time": "2023-10-16T18:10:31.211408",
     "exception": false,
     "start_time": "2023-10-16T18:10:31.200102",
     "status": "completed"
    },
    "tags": []
   },
   "source": [
    "<a class=\"anchor\" id=\"software_testing\"></a>\n",
    "\n",
    "### Software Testing"
   ]
  },
  {
   "cell_type": "markdown",
   "id": "bccc2170",
   "metadata": {
    "papermill": {
     "duration": 0.010982,
     "end_time": "2023-10-16T18:10:31.233653",
     "exception": false,
     "start_time": "2023-10-16T18:10:31.222671",
     "status": "completed"
    },
    "tags": []
   },
   "source": [
    "When you’re beginning with Python or with programming, you probably start by creating small programs and scripts that you can [run](https://realpython.com/run-python-scripts/) and test manually to make sure they work as you expect. However, when your programs grow and get more complex, testing them by hand is near to impossible. This is when automated testing comes into the scene."
   ]
  },
  {
   "cell_type": "markdown",
   "id": "e208fcc5",
   "metadata": {
    "papermill": {
     "duration": 0.010991,
     "end_time": "2023-10-16T18:10:31.255891",
     "exception": false,
     "start_time": "2023-10-16T18:10:31.244900",
     "status": "completed"
    },
    "tags": []
   },
   "source": [
    "Unfortunately, developers make mistakes, and no code is perfect. So, you’ll need a testing process that helps you identify bugs and avoid getting them into production. Testing can also [drive your code’s design](https://en.wikipedia.org/wiki/Test-driven_development) and help you check non-functional features, such as performance, security, usability, regulatory compliance, and more. Testing, therefore, is an important component of software development."
   ]
  },
  {
   "cell_type": "markdown",
   "id": "bbab2f37",
   "metadata": {
    "papermill": {
     "duration": 0.010903,
     "end_time": "2023-10-16T18:10:31.277968",
     "exception": false,
     "start_time": "2023-10-16T18:10:31.267065",
     "status": "completed"
    },
    "tags": []
   },
   "source": [
    "Python has some of the best tools when it comes to testing. You can use these tools to write consistent tests and to run them automatically. Here’s a small sample of these tools:"
   ]
  },
  {
   "cell_type": "markdown",
   "id": "1c658102",
   "metadata": {
    "papermill": {
     "duration": 0.010822,
     "end_time": "2023-10-16T18:10:31.299930",
     "exception": false,
     "start_time": "2023-10-16T18:10:31.289108",
     "status": "completed"
    },
    "tags": []
   },
   "source": [
    "|Tool|Description|\n",
    "|:--|:--|\n",
    "|[doctest](https://docs.python.org/3/library/doctest.html#module-doctest)|doctest is a standard module that searches your [docstrings](https://realpython.com/documenting-python-code/) for pieces of text that look like [interactive Python sessions](https://realpython.com/interacting-with-python/) and executes them to verify that they work correctly.|\n",
    "|[pytest](https://docs.pytest.org/en/6.2.x/contents.html)|pytest is a robust and mature testing framework that allows you to write and automate tests. It can scale from small unit tests to complex functional tests for your applications and libraries.|\n",
    "|[tox](https://tox.readthedocs.io/en/latest/)|tox is a generic [virtualenv](https://pypi.org/project/virtualenv) management and test command-line tool. It allows you to check if your packages install correctly within different Python versions and interpreters. It can run your tests in each of the configured environments.|\n",
    "|[`unittest`](https://docs.python.org/3/library/unittest.html#module-unittest)|`unittest` is a unit testing framework available in the Python standard library. It supports test automation, setup and teardown of tests, aggregation of tests into collections, and more.|\n"
   ]
  },
  {
   "cell_type": "markdown",
   "id": "521e8eba",
   "metadata": {
    "papermill": {
     "duration": 0.010905,
     "end_time": "2023-10-16T18:10:31.321863",
     "exception": false,
     "start_time": "2023-10-16T18:10:31.310958",
     "status": "completed"
    },
    "tags": []
   },
   "source": [
    "To get started with testing, check out:"
   ]
  },
  {
   "cell_type": "markdown",
   "id": "364eae71",
   "metadata": {
    "papermill": {
     "duration": 0.010807,
     "end_time": "2023-10-16T18:10:31.343766",
     "exception": false,
     "start_time": "2023-10-16T18:10:31.332959",
     "status": "completed"
    },
    "tags": []
   },
   "source": [
    "- [Python Testing Tutorials](https://realpython.com/tutorials/testing/)\n",
    "- [Test Your Python Apps Learning Path](https://realpython.com/learning-paths/test-your-python-apps/)\n"
   ]
  },
  {
   "cell_type": "markdown",
   "id": "6a472126",
   "metadata": {
    "papermill": {
     "duration": 0.011002,
     "end_time": "2023-10-16T18:10:31.365923",
     "exception": false,
     "start_time": "2023-10-16T18:10:31.354921",
     "status": "completed"
    },
    "tags": []
   },
   "source": [
    "As a developer, you need to produce reliable code that works correctly. This means that you need to test your code every time you change it or add new features. Automated tests are the way to go in these situations."
   ]
  },
  {
   "cell_type": "markdown",
   "id": "e6299154",
   "metadata": {
    "papermill": {
     "duration": 0.010849,
     "end_time": "2023-10-16T18:10:31.387848",
     "exception": false,
     "start_time": "2023-10-16T18:10:31.376999",
     "status": "completed"
    },
    "tags": []
   },
   "source": [
    "<a class=\"anchor\" id=\"what_you_probably_shouldn’t_do_with_python\"></a>\n",
    "\n",
    "## What You Probably Shouldn’t Do With Python"
   ]
  },
  {
   "cell_type": "markdown",
   "id": "6f9c2fa0",
   "metadata": {
    "papermill": {
     "duration": 0.010951,
     "end_time": "2023-10-16T18:10:31.410012",
     "exception": false,
     "start_time": "2023-10-16T18:10:31.399061",
     "status": "completed"
    },
    "tags": []
   },
   "source": [
    "Python is a highly versatile language, and there’s a lot you can do with it. However, you can’t do everything. There are things that Python isn’t very well suited for at all."
   ]
  },
  {
   "cell_type": "markdown",
   "id": "6d537dbc",
   "metadata": {
    "papermill": {
     "duration": 0.010847,
     "end_time": "2023-10-16T18:10:31.432050",
     "exception": false,
     "start_time": "2023-10-16T18:10:31.421203",
     "status": "completed"
    },
    "tags": []
   },
   "source": [
    "As an interpreted language, Python has trouble interacting with low-level devices, like device drivers. You’d have a problem if you wanted to write an operating system with Python. You’re better off sticking with [C](https://realpython.com/c-for-python-programmers/) or [C++](https://realpython.com/python-vs-cpp/) for low-level applications."
   ]
  },
  {
   "cell_type": "markdown",
   "id": "b898988a",
   "metadata": {
    "papermill": {
     "duration": 0.010879,
     "end_time": "2023-10-16T18:10:31.454050",
     "exception": false,
     "start_time": "2023-10-16T18:10:31.443171",
     "status": "completed"
    },
    "tags": []
   },
   "source": [
    "However, even that might not be true for long. As a testament to Python’s flexibility, there are people out there who are working on projects that extend Python’s usability to low-level interactions. MicroPython and CircuitPython are just some of these projects designing low-level capability for Python."
   ]
  },
  {
   "cell_type": "markdown",
   "id": "f527b9b5",
   "metadata": {
    "papermill": {
     "duration": 0.011191,
     "end_time": "2023-10-16T18:10:31.476256",
     "exception": false,
     "start_time": "2023-10-16T18:10:31.465065",
     "status": "completed"
    },
    "tags": []
   },
   "source": [
    "<a class=\"anchor\" id=\"conclusion\"></a>\n",
    "\n",
    "## Conclusion"
   ]
  },
  {
   "cell_type": "markdown",
   "id": "f13e7c8c",
   "metadata": {
    "papermill": {
     "duration": 0.010887,
     "end_time": "2023-10-16T18:10:31.498279",
     "exception": false,
     "start_time": "2023-10-16T18:10:31.487392",
     "status": "completed"
    },
    "tags": []
   },
   "source": [
    "Having a basic understanding of what you can do with Python is key for you to keep leveling up your Python skills. You can use Python in a variety of different fields ranging from application development to robotics!"
   ]
  },
  {
   "cell_type": "markdown",
   "id": "14bfd35a",
   "metadata": {
    "papermill": {
     "duration": 0.010889,
     "end_time": "2023-10-16T18:10:31.520325",
     "exception": false,
     "start_time": "2023-10-16T18:10:31.509436",
     "status": "completed"
    },
    "tags": []
   },
   "source": [
    "**In this article, you saw that you can use Python for:**"
   ]
  },
  {
   "cell_type": "markdown",
   "id": "747e0d6f",
   "metadata": {
    "papermill": {
     "duration": 0.010979,
     "end_time": "2023-10-16T18:10:31.542386",
     "exception": false,
     "start_time": "2023-10-16T18:10:31.531407",
     "status": "completed"
    },
    "tags": []
   },
   "source": [
    "- General **software development**\n",
    "- **Data science** and **math**\n",
    "- **Workflow** speedup and automation\n"
   ]
  },
  {
   "cell_type": "markdown",
   "id": "80c4fe16",
   "metadata": {
    "papermill": {
     "duration": 0.011577,
     "end_time": "2023-10-16T18:10:31.565770",
     "exception": false,
     "start_time": "2023-10-16T18:10:31.554193",
     "status": "completed"
    },
    "tags": []
   },
   "source": [
    "You also saw ideas for several practical projects that you can build to take your Python skills to the next level."
   ]
  },
  {
   "cell_type": "markdown",
   "id": "4b3c15d6",
   "metadata": {
    "papermill": {
     "duration": 0.011156,
     "end_time": "2023-10-16T18:10:31.588237",
     "exception": false,
     "start_time": "2023-10-16T18:10:31.577081",
     "status": "completed"
    },
    "tags": []
   },
   "source": [
    "<a class=\"anchor\" id=\"next_steps\"></a>\n",
    "\n",
    "## Next Steps"
   ]
  },
  {
   "cell_type": "markdown",
   "id": "047ad8b8",
   "metadata": {
    "papermill": {
     "duration": 0.011219,
     "end_time": "2023-10-16T18:10:31.610830",
     "exception": false,
     "start_time": "2023-10-16T18:10:31.599611",
     "status": "completed"
    },
    "tags": []
   },
   "source": [
    "Another great way to get unstuck is to talk it out. Coding doesn’t have to be a solitary activity. If you need a way to ask questions and get answers quickly from knowledgeable Python developers, then consider joining [Pytopia](https://www.t.me/pytopia_ai) community. Everyone is welcome, no matter how much experience you have. You can always help others and also get help from others."
   ]
  }
 ],
 "metadata": {
  "kernelspec": {
   "display_name": "Python 3",
   "language": "python",
   "name": "python3"
  },
  "language_info": {
   "codemirror_mode": {
    "name": "ipython",
    "version": 3
   },
   "file_extension": ".py",
   "mimetype": "text/x-python",
   "name": "python",
   "nbconvert_exporter": "python",
   "pygments_lexer": "ipython3",
   "version": "3.10.12"
  },
  "papermill": {
   "default_parameters": {},
   "duration": 5.57355,
   "end_time": "2023-10-16T18:10:31.941070",
   "environment_variables": {},
   "exception": null,
   "input_path": "__notebook__.ipynb",
   "output_path": "__notebook__.ipynb",
   "parameters": {},
   "start_time": "2023-10-16T18:10:26.367520",
   "version": "2.4.0"
  }
 },
 "nbformat": 4,
 "nbformat_minor": 5
}
