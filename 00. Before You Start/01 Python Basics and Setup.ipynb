{
 "cells": [
  {
   "cell_type": "markdown",
   "id": "f46a65f7",
   "metadata": {
    "papermill": {
     "duration": 0.003565,
     "end_time": "2023-10-16T17:55:57.975510",
     "exception": false,
     "start_time": "2023-10-16T17:55:57.971945",
     "status": "completed"
    },
    "tags": []
   },
   "source": []
  },
  {
   "cell_type": "markdown",
   "id": "3e30db79",
   "metadata": {
    "papermill": {
     "duration": 0.004153,
     "end_time": "2023-10-16T17:55:57.982476",
     "exception": false,
     "start_time": "2023-10-16T17:55:57.978323",
     "status": "completed"
    },
    "tags": []
   },
   "source": [
    "# Python Basics and Setup"
   ]
  },
  {
   "cell_type": "code",
   "execution_count": null,
   "id": "bbf2ec82",
   "metadata": {
    "papermill": {
     "duration": 0.002108,
     "end_time": "2023-10-16T17:55:57.987282",
     "exception": false,
     "start_time": "2023-10-16T17:55:57.985174",
     "status": "completed"
    },
    "tags": []
   },
   "outputs": [],
   "source": []
  },
  {
   "cell_type": "markdown",
   "id": "bfe29fa8",
   "metadata": {
    "papermill": {
     "duration": 0.00177,
     "end_time": "2023-10-16T17:55:57.991525",
     "exception": false,
     "start_time": "2023-10-16T17:55:57.989755",
     "status": "completed"
    },
    "tags": []
   },
   "source": [
    "Python has been largely used for numerical and scientific applications in the last years. However, to perform numerical computations in an efficient manner, Python relies on external libraries, sometimes implemented in other languages, such as the NumPy library, which is partly implemented using the Fortran language."
   ]
  },
  {
   "cell_type": "markdown",
   "id": "40553781",
   "metadata": {
    "papermill": {
     "duration": 0.001688,
     "end_time": "2023-10-16T17:55:57.995159",
     "exception": false,
     "start_time": "2023-10-16T17:55:57.993471",
     "status": "completed"
    },
    "tags": []
   },
   "source": [
    "Due to these dependencies, sometimes it isn’t trivial to set up an environment for numerical computations, linking all the necessary libraries. It’s common for people to struggle to get things working in workshops involving the use of Python for machine learning, especially when they are using an operating system that lacks a package management system, such as Windows."
   ]
  },
  {
   "cell_type": "markdown",
   "id": "fea8956b",
   "metadata": {
    "papermill": {
     "duration": 0.001726,
     "end_time": "2023-10-16T17:55:57.998762",
     "exception": false,
     "start_time": "2023-10-16T17:55:57.997036",
     "status": "completed"
    },
    "tags": []
   },
   "source": []
  },
  {
   "cell_type": "markdown",
   "id": "a08c2dea",
   "metadata": {
    "papermill": {
     "duration": 0.001703,
     "end_time": "2023-10-16T17:55:58.002462",
     "exception": false,
     "start_time": "2023-10-16T17:55:58.000759",
     "status": "completed"
    },
    "tags": []
   },
   "source": [
    "You will be introduced to Anaconda, a Python distribution proposed to circumvent these setup problems\n",
    "See how to install the distribution on Windows/Linux/Mac machines and use its tools to manage packages and environments"
   ]
  },
  {
   "cell_type": "markdown",
   "id": "56b677b0",
   "metadata": {
    "papermill": {
     "duration": 0.001709,
     "end_time": "2023-10-16T17:55:58.006151",
     "exception": false,
     "start_time": "2023-10-16T17:55:58.004442",
     "status": "completed"
    },
    "tags": []
   },
   "source": [
    "We will use the installed Python stack to build machine learning pipelines and solve exciting data science problems."
   ]
  }
 ],
 "metadata": {
  "kernelspec": {
   "display_name": "Python 3",
   "language": "python",
   "name": "python3"
  },
  "language_info": {
   "codemirror_mode": {
    "name": "ipython",
    "version": 3
   },
   "file_extension": ".py",
   "mimetype": "text/x-python",
   "name": "python",
   "nbconvert_exporter": "python",
   "pygments_lexer": "ipython3",
   "version": "3.10.12"
  },
  "papermill": {
   "default_parameters": {},
   "duration": 3.892602,
   "end_time": "2023-10-16T17:55:58.428918",
   "environment_variables": {},
   "exception": null,
   "input_path": "__notebook__.ipynb",
   "output_path": "__notebook__.ipynb",
   "parameters": {},
   "start_time": "2023-10-16T17:55:54.536316",
   "version": "2.4.0"
  }
 },
 "nbformat": 4,
 "nbformat_minor": 5
}
