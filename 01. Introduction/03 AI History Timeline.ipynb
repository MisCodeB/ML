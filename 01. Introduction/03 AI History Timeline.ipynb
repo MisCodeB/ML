{
 "cells": [
  {
   "cell_type": "markdown",
   "id": "6b27062d",
   "metadata": {
    "papermill": {
     "duration": 0.010361,
     "end_time": "2023-10-16T18:15:15.043207",
     "exception": false,
     "start_time": "2023-10-16T18:15:15.032846",
     "status": "completed"
    },
    "tags": []
   },
   "source": []
  },
  {
   "cell_type": "markdown",
   "id": "a1a1ee77",
   "metadata": {
    "papermill": {
     "duration": 0.005102,
     "end_time": "2023-10-16T18:15:15.057609",
     "exception": false,
     "start_time": "2023-10-16T18:15:15.052507",
     "status": "completed"
    },
    "tags": []
   },
   "source": [
    "#  AI History Timeline \n"
   ]
  },
  {
   "cell_type": "code",
   "execution_count": null,
   "id": "4032f855",
   "metadata": {
    "papermill": {
     "duration": 0.005319,
     "end_time": "2023-10-16T18:15:15.068142",
     "exception": false,
     "start_time": "2023-10-16T18:15:15.062823",
     "status": "completed"
    },
    "tags": []
   },
   "outputs": [],
   "source": []
  },
  {
   "cell_type": "markdown",
   "id": "56c5d2c7",
   "metadata": {
    "papermill": {
     "duration": 0.00504,
     "end_time": "2023-10-16T18:15:15.078657",
     "exception": false,
     "start_time": "2023-10-16T18:15:15.073617",
     "status": "completed"
    },
    "tags": []
   },
   "source": [
    "## <img src=\"../../images/logos/toc.png\" width=\"20\"/> Table of Contents \n",
    "* [1950s](#1950s)\n",
    "* [1960s](#1960s)\n",
    "* [1970s](#1970s)\n",
    "* [1980s](#1980s)\n",
    "* [1990s](#1990s)\n",
    "* [2000s](#2000s)\n",
    "* [Present AI](#present_ai)\n",
    "\n",
    "---"
   ]
  },
  {
   "cell_type": "markdown",
   "id": "f62df808",
   "metadata": {
    "papermill": {
     "duration": 0.00473,
     "end_time": "2023-10-16T18:15:15.088739",
     "exception": false,
     "start_time": "2023-10-16T18:15:15.084009",
     "status": "completed"
    },
    "tags": []
   },
   "source": [
    "From AI in healthcare, AI in education, AI in manufacturing, AI in law, finance, and even AI in politics, in the prevailing times, AI is everywhere. Yet considering AI to be a solely modern phenomenon would be a misguided notion."
   ]
  },
  {
   "cell_type": "markdown",
   "id": "c786a886",
   "metadata": {
    "papermill": {
     "duration": 0.00716,
     "end_time": "2023-10-16T18:15:15.103474",
     "exception": false,
     "start_time": "2023-10-16T18:15:15.096314",
     "status": "completed"
    },
    "tags": []
   },
   "source": []
  },
  {
   "cell_type": "markdown",
   "id": "cdcfb5db",
   "metadata": {
    "papermill": {
     "duration": 0.006049,
     "end_time": "2023-10-16T18:15:15.116792",
     "exception": false,
     "start_time": "2023-10-16T18:15:15.110743",
     "status": "completed"
    },
    "tags": []
   },
   "source": [
    "<a class=\"anchor\" id=\"1950s\"></a>\n",
    "\n",
    "\n",
    "## 1950s"
   ]
  },
  {
   "cell_type": "markdown",
   "id": "6494e33a",
   "metadata": {
    "papermill": {
     "duration": 0.006468,
     "end_time": "2023-10-16T18:15:15.128834",
     "exception": false,
     "start_time": "2023-10-16T18:15:15.122366",
     "status": "completed"
    },
    "tags": []
   },
   "source": [
    "The 1950s was a decade where research-based findings based on AI escalated, leading to a series of advances in the field. "
   ]
  },
  {
   "cell_type": "markdown",
   "id": "869a5997",
   "metadata": {
    "papermill": {
     "duration": 0.006326,
     "end_time": "2023-10-16T18:15:15.143513",
     "exception": false,
     "start_time": "2023-10-16T18:15:15.137187",
     "status": "completed"
    },
    "tags": []
   },
   "source": [
    "Alan Turing | Imitation Game Movie\n"
   ]
  },
  {
   "cell_type": "markdown",
   "id": "d49ac988",
   "metadata": {
    "papermill": {
     "duration": 0.005223,
     "end_time": "2023-10-16T18:15:15.153767",
     "exception": false,
     "start_time": "2023-10-16T18:15:15.148544",
     "status": "completed"
    },
    "tags": []
   },
   "source": [
    "- **1950:** “Programming a Computer for Playing Chess”, the first article on creating a chess-playing computer program was published by Claude Shannon, who was known as the “father of information theory”.\n",
    "\n",
    "- **1950:** One of the turning points in the history of AI was Alan Turing publishing his paper on “Computing Machinery and Intelligence,” this year. The paper explored the idea of “The Imitation Game” which was later renamed as “The Turing Test”, a proposal that examined a machine’s capacity to think like a human. This test became an integral element in the field of artificial intelligence.\n",
    "\n",
    "- **1952:** A program for playing checkers was created by Arthur Samuel. This was the first game-playing program, which had the ability to compete against human players in the game of Checkers.\n",
    "\n",
    "- **1955:** The first AI computer program - Logic Theorist was written this year by Allen Newell (researcher), Herbert Simon (economist), and Cliff Shaw (programmer) which ultimately proved 38 of the first 52 theorems in Whitehead and Russell's Principia Mathematica.\n",
    "\n",
    "- **1955:** A proposal was generated by John McCarthy, an American computer scientist, and his team for holding an “artificial intelligence” workshop. \n",
    "\n",
    "- **1956:** After the workshop, the term artificial intelligence officially took birth, courtesy of John McCarthy,  at a Dartmouth College Conference. \n",
    "\n",
    "- **1958:** Lisp, a high-level programming language for AI research that still prevails in the present scenario was developed by McCarthy at MIT.  \n",
    "\n",
    "- **1959:** The term “machine learning” came into existence by Arthur Samuel as he worked towards programming a computer for playing a chess game that could compete against human players. "
   ]
  },
  {
   "cell_type": "markdown",
   "id": "72f4ccbe",
   "metadata": {
    "papermill": {
     "duration": 0.004996,
     "end_time": "2023-10-16T18:15:15.163936",
     "exception": false,
     "start_time": "2023-10-16T18:15:15.158940",
     "status": "completed"
    },
    "tags": []
   },
   "source": [
    "AI in the 1960s. This decade was characterized by the rise in the development of automatons and robots, fresh programming languages, research, and films depicting artificially intelligent beings."
   ]
  },
  {
   "cell_type": "markdown",
   "id": "443942c2",
   "metadata": {
    "papermill": {
     "duration": 0.004518,
     "end_time": "2023-10-16T18:15:15.173666",
     "exception": false,
     "start_time": "2023-10-16T18:15:15.169148",
     "status": "completed"
    },
    "tags": []
   },
   "source": [
    "<a class=\"anchor\" id=\"1960s\"></a>\n",
    "\n",
    "\n",
    "## 1960s"
   ]
  },
  {
   "cell_type": "markdown",
   "id": "514fe758",
   "metadata": {
    "papermill": {
     "duration": 0.005234,
     "end_time": "2023-10-16T18:15:15.184283",
     "exception": false,
     "start_time": "2023-10-16T18:15:15.179049",
     "status": "completed"
    },
    "tags": []
   },
   "source": [
    "- **1961:** In this year, a 1950s industrial robot called Unimate, which was created by George Devol, emerged as the first to perform on New Jersey’s General Motors assembly line. The robot’s duties incorporated tasks that would be perceived as risky to be performed by humans such as transporting die castings from the assembly line. \n",
    "\n",
    "- **1961:** SAINT (Symbolic Automatic Integrator) was developed by James Slagle, the computer scientist, and professor. This is a program that solves symbolic integration issues in freshman calculus\n",
    "\n",
    "- **1964:** An early artificial intelligence program termed STUDENT was written in Lisp by Daniel G. Bobrow, an American computer scientist. The program was developed for reading and solving algebra word problems. \n",
    "\n",
    "- **1966:** Ironically, the first chatbot Eliza, a natural language processing computer program, developed by MIT professor Joseph Weizenbaum, had actually been fashioned to serve as a parody rather than something people could connect with. Yet people started displaying actual emotional connections with it. Although Eliza interacted through text and was incapable of learning through human interactions, she played an integral role in tearing down the communication barriers lying between humans and machines.\n",
    "\n",
    "- **1966:** This was the year that kickstarted the project of creating the first mobile robot, “Shakey”.  The project lasted from 1966 to 1972. The project was perceived as an approach for linking the different AI fields with navigation and computer vision. The robot presently resides in the Computer History Museum. \n",
    "\n",
    "- **1968:** This was the year when the popular sci-fi film 2001: A Space Odyssey was released. Directed by filmmaker Stanley Kubrick, the film featured HAL (Heuristically programmed Algorithmic computer), an AI-powered nuclear-powered Discovery One spaceship. The onboard supercomputer bore a certain resemblance to our present modern voice assistants like Siri and Alexa.\n",
    "\n",
    "> “That may be one of the movie’s greatest achievements: it placed AI into the mainstream consciousness even before the first AI robot, Shakey, was completed in 1969,” \n",
    "> - Murphy, professor at Texas A&M University\n",
    "\n",
    " \n",
    "\n",
    "- **1968:** SHRDLU, an early natural language computer program was created by Terry Winograd, a computer science professor at Stanford University. "
   ]
  },
  {
   "cell_type": "markdown",
   "id": "eb117a7b",
   "metadata": {
    "papermill": {
     "duration": 0.005118,
     "end_time": "2023-10-16T18:15:15.194441",
     "exception": false,
     "start_time": "2023-10-16T18:15:15.189323",
     "status": "completed"
    },
    "tags": []
   },
   "source": [
    "<a class=\"anchor\" id=\"1970s\"></a>\n",
    "\n",
    "\n",
    "## 1970s"
   ]
  },
  {
   "cell_type": "markdown",
   "id": "7b2eac47",
   "metadata": {
    "papermill": {
     "duration": 0.004718,
     "end_time": "2023-10-16T18:15:15.205444",
     "exception": false,
     "start_time": "2023-10-16T18:15:15.200726",
     "status": "completed"
    },
    "tags": []
   },
   "source": [
    "AI in the 1970s\n",
    "\n",
    "This decade dealt with advancements in relation to automatons and robots. Yet at the same time, it was also characterized by various challenges like the government scaling down its support for research in the AI field."
   ]
  },
  {
   "cell_type": "markdown",
   "id": "ab87cbab",
   "metadata": {
    "papermill": {
     "duration": 0.005126,
     "end_time": "2023-10-16T18:15:15.216599",
     "exception": false,
     "start_time": "2023-10-16T18:15:15.211473",
     "status": "completed"
    },
    "tags": []
   },
   "source": [
    "- **1970:** This was the year when the first anthropomorphic robot called WABOT-1 was developed in Japan at Waseda University. Moveable limbs and observing and conversing ability were some of the features it incorporated.\n",
    "\n",
    "- **1973:** Progress in AI went downhill at this point when James Lighthill an applied mathematician announced the condition of the AI research to the British Science Council claiming that as of yet none of the discoveries made have generated the expected impact. This resulted in the British government considerably cutting down their support for AI research.\n",
    "\n",
    "- **1977:** The iconic legacy of Star Wars kick-started this year. Directed by George Lucas, the film features C-3PO, a humanoid robot who was developed to serve as a protocol droid and was portrayed to be proficient in over seven million forms of communication, and R2-D2 which was a small, astromech droid that is unfit for human speech and interacts through electronic beeps. \n",
    "\n",
    "- **1979:** The Stanford Cart,  a remotely controlled TV-equipped mobile robot was created back in 1961, successfully crosses a room filled with chairs in the absence of human interference, in a period of around 5 hours, which makes it one of the most initial autonomous vehicle examples. "
   ]
  },
  {
   "cell_type": "markdown",
   "id": "a7e4d422",
   "metadata": {
    "papermill": {
     "duration": 0.006952,
     "end_time": "2023-10-16T18:15:15.228568",
     "exception": false,
     "start_time": "2023-10-16T18:15:15.221616",
     "status": "completed"
    },
    "tags": []
   },
   "source": [
    "<a class=\"anchor\" id=\"1980s\"></a>\n",
    "\n",
    "\n",
    "## 1980s"
   ]
  },
  {
   "cell_type": "markdown",
   "id": "3c659ce3",
   "metadata": {
    "papermill": {
     "duration": 0.005049,
     "end_time": "2023-10-16T18:15:15.239807",
     "exception": false,
     "start_time": "2023-10-16T18:15:15.234758",
     "status": "completed"
    },
    "tags": []
   },
   "source": [
    "AI in the 1980s\n",
    " \n",
    "AI Winter (a period characterized by the low level of interest and funding in the AI field) looms in a certain portion of this decade, which was later revived as the British government resumed its funding as an endeavor to compete with Japanese efforts."
   ]
  },
  {
   "cell_type": "markdown",
   "id": "eb0ffd62",
   "metadata": {
    "papermill": {
     "duration": 0.005857,
     "end_time": "2023-10-16T18:15:15.251338",
     "exception": false,
     "start_time": "2023-10-16T18:15:15.245481",
     "status": "completed"
    },
    "tags": []
   },
   "source": [
    "- **1980:** The development of WABOT-2 took place at Waseda University, enabling the humanoid to interact with people, read musical scores and play music on an electronic organ.\n",
    "\n",
    "- **1981:** Around $850 million were allotted to the Fifth Generation Computer project on behalf of the Japanese Ministry of International Trade and Industry, the project’s aim is to develop computers that could execute interactions, translate languages, interpret pictures, and analyze like human beings.\n",
    "\n",
    "- **1984:** Electric Dreams, a film directed by Steve Barron, was released, an interesting tale surrounding the love triangle between a man, woman, and a personal computer called “Edgar”.\n",
    "\n",
    "- **1984:** The warning of the looming AI Winter was brought up at an Association for the Advancement of Artificial Intelligence (AAAI), by Roger Schank and Marvin Minsky. This warning proved accurate within the next 3 years. \n",
    "\n",
    "- **1986:** This was the year when the first driverless car, a Mercedes-Benz van, armed with sensors and cameras which was built under the guidance of Ernst Dickmanns drove up to 55 mph on empty streets. \n",
    "\n",
    "- **1988:** Judea Pearl, a computer scientist, published “Probabilistic Reasoning in Intelligent Systems'' in this year. He was also given the credit for inventing Bayesian networks, a mathematical formalism for defining complex probability models, and the primary algorithms adopted for inference in these models. \n",
    "\n",
    "- **1988:** Rollo Carpenter, a programmer built Jabberwacky with the aim of simulating natural human chat in an engaging fashion. This was one of the early approaches towards generating AI via human interaction.  "
   ]
  },
  {
   "cell_type": "markdown",
   "id": "0ba01c2c",
   "metadata": {
    "papermill": {
     "duration": 0.005173,
     "end_time": "2023-10-16T18:15:15.261556",
     "exception": false,
     "start_time": "2023-10-16T18:15:15.256383",
     "status": "completed"
    },
    "tags": []
   },
   "source": [
    "<a class=\"anchor\" id=\"1990s\"></a>\n",
    "\n",
    "\n",
    "## 1990s"
   ]
  },
  {
   "cell_type": "markdown",
   "id": "6cc8f424",
   "metadata": {
    "papermill": {
     "duration": 0.004839,
     "end_time": "2023-10-16T18:15:15.271567",
     "exception": false,
     "start_time": "2023-10-16T18:15:15.266728",
     "status": "completed"
    },
    "tags": []
   },
   "source": [
    "AI in the 1990s\n",
    " \n",
    "The end of the millennium is characterized by a range of advancements that gradually revolutionized the AI field. "
   ]
  },
  {
   "cell_type": "markdown",
   "id": "a481c3b0",
   "metadata": {
    "papermill": {
     "duration": 0.004794,
     "end_time": "2023-10-16T18:15:15.282927",
     "exception": false,
     "start_time": "2023-10-16T18:15:15.278133",
     "status": "completed"
    },
    "tags": []
   },
   "source": [
    "- **1993:**  The book “Elephants don’t play Chess'' was published by Rodney Brooks. The book proposed a fresh approach for AI, in developing intelligent systems from scratch and based on ongoing physical interaction with the environment. \n",
    " \n",
    "- **1995:** A.L.I.C.E (Artificial Linguistic Internet Computer Entity), was built by Richard Wallace, a computer scientist, which was inspired by Weizenbaum's ELIZA. The addition of natural language sample data collection in A.L.I.C.E differentiated the two. \n",
    " \n",
    "- **1997:** Jürgen Schmidhuber and Sepp Hochreiter proposed Long Short-Term Memory (LSTM), a type of recurrent neural network (RNN) architecture that is presently adopted for speech and handwriting recognition.\n",
    " \n",
    "- **1997:** This was the year when IBM’s chess-playing computer Deep Blue, emerged as the first system to win against a reigning world chess champion.\n",
    " \n",
    "- **1998:** Furby, the first domestic or pet toy robot was invented by Dave Hampton and Caleb Chung.\n",
    " \n",
    "- **1998:** The expressive humanoid robot “Kismet” was built by MIT Professor Cynthia Breazeal. It's a robot that can detect and simulate emotions through its face. The robot was structured like a human face being equipped with eyes, lips, eyelids, and eyebrows.\n",
    " \n",
    "- **1999:** Following the footsteps of Furby, Sony debuted AIBO (Artificial Intelligence Robot), which was designed for learning through interaction with its environment and human owners. The robot had the capacity of understanding and responding to over 100 voice commands.  "
   ]
  },
  {
   "cell_type": "markdown",
   "id": "7cf4d073",
   "metadata": {
    "papermill": {
     "duration": 0.006164,
     "end_time": "2023-10-16T18:15:15.294574",
     "exception": false,
     "start_time": "2023-10-16T18:15:15.288410",
     "status": "completed"
    },
    "tags": []
   },
   "source": [
    "<a class=\"anchor\" id=\"2000s\"></a>\n",
    "\n",
    "\n",
    "## 2000s"
   ]
  },
  {
   "cell_type": "markdown",
   "id": "ce87bba5",
   "metadata": {
    "papermill": {
     "duration": 0.004929,
     "end_time": "2023-10-16T18:15:15.304502",
     "exception": false,
     "start_time": "2023-10-16T18:15:15.299573",
     "status": "completed"
    },
    "tags": []
   },
   "source": [
    "AI from 2000-2010\n",
    " \n",
    "\n",
    "Although the millennium set aboard with the panic caused by the Y2K bug in the very beginning of 2000, upon its resolution the trend of advancements in the world of AI surged like a phoenix."
   ]
  },
  {
   "cell_type": "markdown",
   "id": "775a0f6d",
   "metadata": {
    "papermill": {
     "duration": 0.005022,
     "end_time": "2023-10-16T18:15:15.314812",
     "exception": false,
     "start_time": "2023-10-16T18:15:15.309790",
     "status": "completed"
    },
    "tags": []
   },
   "source": [
    "- **2000:** An artificially intelligent humanoid robot, ASIMO was released by Honda. The robot is capable of walking as fast as humans and delivering trays to customers in restaurants. \n",
    "\n",
    " \n",
    "- **2001:** Steven Spielberg’s sci-fi film A.I. Artificial Intelligence was released this year. The movie revolved around David, a childlike android who was exclusively programmed with the ability to love.\n",
    "\n",
    " \n",
    "- **2002:** The popular Roomba was released by i-Robot, which was an autonomous robot vacuum cleaner that cleans while dodging hurdles.\n",
    "\n",
    " \n",
    "- **2004:** This was the year when robotic exploration rovers of NASA namely Spirit and Opportunity navigated the surface of Mars in the absence of human intervention. \n",
    "\n",
    " \n",
    "- **2004:** I, Robot, a film set in the year 2035 in which humanoid robots served humankind, is released, which was directed by the Australian director Alex Proyas. \n",
    "\n",
    " \n",
    "- **2006:** The term \"machine reading\" was coined by Oren Etzioni, Michele Banko, and Michael Cafarella, defining it as unsupervised autonomous text comprehension. \n",
    "\n",
    " \n",
    "- **2007:** ImageNet, a big database containing annotated images was assembled by Fei Fei Li, a computer science professor, and her colleagues. The database aimed to help in object recognition software research.\n",
    "\n",
    " \n",
    "- **2009:** A driverless car began secretly getting built by Google. By the year 2014, the car managed to pass Nevada’s self-driving test. "
   ]
  },
  {
   "cell_type": "markdown",
   "id": "ff35bdbc",
   "metadata": {
    "papermill": {
     "duration": 0.004718,
     "end_time": "2023-10-16T18:15:15.324677",
     "exception": false,
     "start_time": "2023-10-16T18:15:15.319959",
     "status": "completed"
    },
    "tags": []
   },
   "source": [
    "<a class=\"anchor\" id=\"present_ai\"></a>\n",
    "\n",
    "\n",
    "## Present AI"
   ]
  },
  {
   "cell_type": "markdown",
   "id": "5a0b20c5",
   "metadata": {
    "papermill": {
     "duration": 0.00503,
     "end_time": "2023-10-16T18:15:15.337441",
     "exception": false,
     "start_time": "2023-10-16T18:15:15.332411",
     "status": "completed"
    },
    "tags": []
   },
   "source": [
    "A brief highlight of Present AI \n",
    " \n",
    "\n",
    "From this point onward, AI in our daily lives has fully ingrained itself in all our day-to-day tasks. Dominating every corner of our existence, we have reached a point where we might even start taking this technology for granted. We have listed a couple of the highlights in this field that occurred in the recent decade. "
   ]
  },
  {
   "cell_type": "markdown",
   "id": "7ac4a959",
   "metadata": {
    "papermill": {
     "duration": 0.005089,
     "end_time": "2023-10-16T18:15:15.347567",
     "exception": false,
     "start_time": "2023-10-16T18:15:15.342478",
     "status": "completed"
    },
    "tags": []
   },
   "source": [
    "- **2010:** Microsoft released Kinect for Xbox 360, which was the first gaming device tracking human body movement through a 3D camera and infrared detection.\n",
    "\n",
    "- **2011:** Two former Jeopardy! Champions Ken Jenning and Brad Rutter lost to IBM’s Watson, a natural language question-answering computer in a televised game.\n",
    "\n",
    "- **2011:** Apple released Siri, a built-in, voice-controlled personal assistant, available for Apple users. This voice assistant adopts a natural-language user interface for comprehending, observing, responding, and suggesting things to human users by adapting to voice commands. \n",
    "\n",
    "- **2012:** A massive neural network equipped with 16,000 processors was trained by Google researchers Jeff Dean and Andrew Ng to detect cat images without any background information, by presenting it with 10 million unlabeled images found in YouTube videos. \n",
    "\n",
    "- **2013:** A computer program called Never Ending Image Learner (NEIL), housed at Carnegie Mellon University, was released this year. The program works 24/7 learning information about images which it discovers on the internet.\n",
    "\n",
    "- **2014:** Cortana, a virtual assistant created by Microsoft was released this year, its version being similar to Apple’s Siri. \n",
    "\n",
    "- **2014:** A computer algorithm claiming to be a 13-year-old boy called Eugene Goostman passed the Turing test. The program managed to convince 33% of the human judges at a Royal Society event that it was actually a human. \n",
    "\n",
    "- **2014:** The legendary Alexa was released by Amazon, which is a home assistant that develops into smart speakers, functioning as a personal assistant. \n",
    "\n",
    "- **2015:** An open letter was signed by Elon Musk, Stephen Hawking, and Steve Wozniak among 3,000 others requesting a ban on the development and adoption of autonomous weapons for war purposes. \n",
    "\n",
    "- **2015-2017:** AlphaGo, a computer program was developed by Google DeepMind, which beat many world (human) champions in the board game Go.  \n",
    "\n",
    "- **2016:** Hanson Robotics developed the humanoid robot Sophia pegged to be the first “robot citizen”. Distinguishing her from her predecessors was her similarity to an actual human being, with her ability to see, make facial expressions, and communicate via AI.\n",
    "\n",
    "- **2016:** Google Home was released by Google, a smart speaker which adopts AI for serving as a “personal assistant” to aid users in duties like remembering tasks, creating appointments, and learning information by using voice.\n",
    "\n",
    "- **2017:** Two “dialog agents” (chatbots) get trained by the Facebook AI Research lab (chatbots) to negotiate via machine learning. Yet as the chatbots interacted they deviated from human language, inventing their own communication language. \n",
    "\n",
    "- **2018:** Alibaba developed an AI model that scored better than humans in a Stanford University reading and comprehension test. The Alibaba language processing scored 82.44 against 82.30 on a set of 100,000 questions. \n",
    "\n",
    "- **2018:** Google developed BERT (Bidirectional Encoder Representations from Transformers). This technology allows anyone to train their own state-of-the-art question answering system. \n",
    "\n",
    "- **2020:** OpenAI GPT-3, was first introduced in May 2020 and was in beta testing in June 2020. This language model generates text by adopting algorithms that are pre-trained, i.e which have already been fed the data which they require for executing the task.  \n",
    "\n",
    " "
   ]
  },
  {
   "cell_type": "code",
   "execution_count": null,
   "id": "3d463260",
   "metadata": {
    "papermill": {
     "duration": 0.004859,
     "end_time": "2023-10-16T18:15:15.357668",
     "exception": false,
     "start_time": "2023-10-16T18:15:15.352809",
     "status": "completed"
    },
    "tags": []
   },
   "outputs": [],
   "source": []
  }
 ],
 "metadata": {
  "kernelspec": {
   "display_name": "Python 3",
   "language": "python",
   "name": "python3"
  },
  "language_info": {
   "codemirror_mode": {
    "name": "ipython",
    "version": 3
   },
   "file_extension": ".py",
   "mimetype": "text/x-python",
   "name": "python",
   "nbconvert_exporter": "python",
   "pygments_lexer": "ipython3",
   "version": "3.10.12"
  },
  "papermill": {
   "default_parameters": {},
   "duration": 4.512693,
   "end_time": "2023-10-16T18:15:15.886429",
   "environment_variables": {},
   "exception": null,
   "input_path": "__notebook__.ipynb",
   "output_path": "__notebook__.ipynb",
   "parameters": {},
   "start_time": "2023-10-16T18:15:11.373736",
   "version": "2.4.0"
  }
 },
 "nbformat": 4,
 "nbformat_minor": 5
}
